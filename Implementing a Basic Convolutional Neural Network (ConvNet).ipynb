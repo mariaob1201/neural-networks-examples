{
 "cells": [
  {
   "cell_type": "markdown",
   "id": "b2ad4f82",
   "metadata": {},
   "source": [
    "<p align=\"center\">\n",
    "    <img src=\"JHU.png\" width=\"200\" alt=\"Johns Hopkins University logo\">\n",
    "</p>"
   ]
  },
  {
   "cell_type": "markdown",
   "id": "f0415d39",
   "metadata": {},
   "source": [
    "# Hands-on Lab: Implementing a Basic Convolutional Neural Network (ConvNet)\n",
    "\n",
    "Estimated time needed: **60** minutes"
   ]
  },
  {
   "cell_type": "markdown",
   "id": "ccd5a77a",
   "metadata": {},
   "source": [
    "## Overview:\n",
    "\n",
    "In this lab, you will learn how to implement a basic Convolutional Neural Network (ConvNet) using a deep learning framework like TensorFlow or PyTorch. The ConvNet will be trained on the MNIST dataset, a collection of grayscale images of handwritten digits (0–9). You will construct a network with at least two convolutional layers, pooling layers, and fully connected layers to classify these digits.\n",
    "\n",
    "\n",
    "\n",
    "## Objectives\n",
    "\n",
    "By the end of this lab, you will:\n",
    "\n",
    "- Understand the structure and functionality of convolutional and pooling layers.\n",
    "- Construct a ConvNet using a deep learning framework.\n",
    "- Train and evaluate the ConvNet on the MNIST dataset.\n",
    "- Visualize performance metrics such as accuracy and loss.\n",
    "- Extract insights about model performance."
   ]
  },
  {
   "cell_type": "markdown",
   "id": "12076a2a",
   "metadata": {},
   "source": [
    "## Dataset Description\n",
    "\n",
    "- **Dataset**: MNIST\n",
    "- **Features**: 28x28 grayscale images of handwritten digits.\n",
    "- **Classes**: 10 (digits 0 through 9).\n",
    "- **Size**: 60,000 training samples and 10,000 testing samples.\n",
    "- **Source**: Preloaded in popular deep learning frameworks like TensorFlow and PyTorch.\n"
   ]
  },
  {
   "cell_type": "markdown",
   "id": "a5cff208",
   "metadata": {},
   "source": [
    "## Assignment Tasks"
   ]
  },
  {
   "cell_type": "markdown",
   "id": "2010445b",
   "metadata": {},
   "source": [
    "### Step 1: Install and Import Necessary Libraries"
   ]
  },
  {
   "cell_type": "markdown",
   "id": "147b0e24",
   "metadata": {},
   "source": [
    "> **Note**: Please ignore any warnings that appear during execution; they will not affect the correctness of your code or the upcoming tasks."
   ]
  },
  {
   "cell_type": "code",
   "execution_count": 1,
   "id": "4a52b4d5",
   "metadata": {},
   "outputs": [
    {
     "name": "stdout",
     "output_type": "stream",
     "text": [
      "Requirement already satisfied: tensorflow in /usr/local/lib/python3.11/dist-packages (2.14.0)\n",
      "Requirement already satisfied: numpy in /usr/local/lib/python3.11/dist-packages (1.26.0)\n",
      "Requirement already satisfied: matplotlib in /usr/local/lib/python3.11/dist-packages (3.8.0)\n",
      "Requirement already satisfied: absl-py>=1.0.0 in /usr/local/lib/python3.11/dist-packages (from tensorflow) (2.0.0)\n",
      "Requirement already satisfied: astunparse>=1.6.0 in /usr/local/lib/python3.11/dist-packages (from tensorflow) (1.6.3)\n",
      "Requirement already satisfied: flatbuffers>=23.5.26 in /usr/local/lib/python3.11/dist-packages (from tensorflow) (23.5.26)\n",
      "Requirement already satisfied: gast!=0.5.0,!=0.5.1,!=0.5.2,>=0.2.1 in /usr/local/lib/python3.11/dist-packages (from tensorflow) (0.5.4)\n",
      "Requirement already satisfied: google-pasta>=0.1.1 in /usr/local/lib/python3.11/dist-packages (from tensorflow) (0.2.0)\n",
      "Requirement already satisfied: h5py>=2.9.0 in /usr/local/lib/python3.11/dist-packages (from tensorflow) (3.9.0)\n",
      "Requirement already satisfied: libclang>=13.0.0 in /usr/local/lib/python3.11/dist-packages (from tensorflow) (16.0.6)\n",
      "Requirement already satisfied: ml-dtypes==0.2.0 in /usr/local/lib/python3.11/dist-packages (from tensorflow) (0.2.0)\n",
      "Requirement already satisfied: opt-einsum>=2.3.2 in /usr/local/lib/python3.11/dist-packages (from tensorflow) (3.3.0)\n",
      "Requirement already satisfied: packaging in /usr/local/lib/python3.11/dist-packages (from tensorflow) (23.1)\n",
      "Requirement already satisfied: protobuf!=4.21.0,!=4.21.1,!=4.21.2,!=4.21.3,!=4.21.4,!=4.21.5,<5.0.0dev,>=3.20.3 in /usr/local/lib/python3.11/dist-packages (from tensorflow) (4.24.3)\n",
      "Requirement already satisfied: setuptools in /usr/local/lib/python3.11/dist-packages (from tensorflow) (68.2.2)\n",
      "Requirement already satisfied: six>=1.12.0 in /usr/lib/python3/dist-packages (from tensorflow) (1.16.0)\n",
      "Requirement already satisfied: termcolor>=1.1.0 in /usr/local/lib/python3.11/dist-packages (from tensorflow) (2.3.0)\n",
      "Requirement already satisfied: typing-extensions>=3.6.6 in /usr/local/lib/python3.11/dist-packages (from tensorflow) (4.8.0)\n",
      "Requirement already satisfied: wrapt<1.15,>=1.11.0 in /usr/local/lib/python3.11/dist-packages (from tensorflow) (1.14.1)\n",
      "Requirement already satisfied: tensorflow-io-gcs-filesystem>=0.23.1 in /usr/local/lib/python3.11/dist-packages (from tensorflow) (0.34.0)\n",
      "Requirement already satisfied: grpcio<2.0,>=1.24.3 in /usr/local/lib/python3.11/dist-packages (from tensorflow) (1.58.0)\n",
      "Requirement already satisfied: tensorboard<2.15,>=2.14 in /usr/local/lib/python3.11/dist-packages (from tensorflow) (2.14.0)\n",
      "Requirement already satisfied: tensorflow-estimator<2.15,>=2.14.0 in /usr/local/lib/python3.11/dist-packages (from tensorflow) (2.14.0)\n",
      "Requirement already satisfied: keras<2.15,>=2.14.0 in /usr/local/lib/python3.11/dist-packages (from tensorflow) (2.14.0)\n",
      "Requirement already satisfied: contourpy>=1.0.1 in /usr/local/lib/python3.11/dist-packages (from matplotlib) (1.1.1)\n",
      "Requirement already satisfied: cycler>=0.10 in /usr/local/lib/python3.11/dist-packages (from matplotlib) (0.11.0)\n",
      "Requirement already satisfied: fonttools>=4.22.0 in /usr/local/lib/python3.11/dist-packages (from matplotlib) (4.42.1)\n",
      "Requirement already satisfied: kiwisolver>=1.0.1 in /usr/local/lib/python3.11/dist-packages (from matplotlib) (1.4.5)\n",
      "Requirement already satisfied: pillow>=6.2.0 in /usr/local/lib/python3.11/dist-packages (from matplotlib) (10.0.1)\n",
      "Requirement already satisfied: pyparsing>=2.3.1 in /usr/lib/python3/dist-packages (from matplotlib) (2.4.7)\n",
      "Requirement already satisfied: python-dateutil>=2.7 in /usr/local/lib/python3.11/dist-packages (from matplotlib) (2.8.2)\n",
      "Requirement already satisfied: wheel<1.0,>=0.23.0 in /usr/local/lib/python3.11/dist-packages (from astunparse>=1.6.0->tensorflow) (0.41.2)\n",
      "Requirement already satisfied: google-auth<3,>=1.6.3 in /usr/local/lib/python3.11/dist-packages (from tensorboard<2.15,>=2.14->tensorflow) (2.23.1)\n",
      "Requirement already satisfied: google-auth-oauthlib<1.1,>=0.5 in /usr/local/lib/python3.11/dist-packages (from tensorboard<2.15,>=2.14->tensorflow) (1.0.0)\n",
      "Requirement already satisfied: markdown>=2.6.8 in /usr/local/lib/python3.11/dist-packages (from tensorboard<2.15,>=2.14->tensorflow) (3.4.4)\n",
      "Requirement already satisfied: requests<3,>=2.21.0 in /usr/local/lib/python3.11/dist-packages (from tensorboard<2.15,>=2.14->tensorflow) (2.31.0)\n",
      "Requirement already satisfied: tensorboard-data-server<0.8.0,>=0.7.0 in /usr/local/lib/python3.11/dist-packages (from tensorboard<2.15,>=2.14->tensorflow) (0.7.1)\n",
      "Requirement already satisfied: werkzeug>=1.0.1 in /usr/local/lib/python3.11/dist-packages (from tensorboard<2.15,>=2.14->tensorflow) (2.3.7)\n",
      "Requirement already satisfied: cachetools<6.0,>=2.0.0 in /usr/local/lib/python3.11/dist-packages (from google-auth<3,>=1.6.3->tensorboard<2.15,>=2.14->tensorflow) (5.3.1)\n",
      "Requirement already satisfied: pyasn1-modules>=0.2.1 in /usr/local/lib/python3.11/dist-packages (from google-auth<3,>=1.6.3->tensorboard<2.15,>=2.14->tensorflow) (0.3.0)\n",
      "Requirement already satisfied: rsa<5,>=3.1.4 in /usr/local/lib/python3.11/dist-packages (from google-auth<3,>=1.6.3->tensorboard<2.15,>=2.14->tensorflow) (4.9)\n",
      "Requirement already satisfied: urllib3>=2.0.5 in /usr/local/lib/python3.11/dist-packages (from google-auth<3,>=1.6.3->tensorboard<2.15,>=2.14->tensorflow) (2.0.5)\n",
      "Requirement already satisfied: requests-oauthlib>=0.7.0 in /usr/local/lib/python3.11/dist-packages (from google-auth-oauthlib<1.1,>=0.5->tensorboard<2.15,>=2.14->tensorflow) (1.3.1)\n",
      "Requirement already satisfied: charset-normalizer<4,>=2 in /usr/local/lib/python3.11/dist-packages (from requests<3,>=2.21.0->tensorboard<2.15,>=2.14->tensorflow) (3.2.0)\n",
      "Requirement already satisfied: idna<4,>=2.5 in /usr/local/lib/python3.11/dist-packages (from requests<3,>=2.21.0->tensorboard<2.15,>=2.14->tensorflow) (3.4)\n",
      "Requirement already satisfied: certifi>=2017.4.17 in /usr/local/lib/python3.11/dist-packages (from requests<3,>=2.21.0->tensorboard<2.15,>=2.14->tensorflow) (2023.7.22)\n",
      "Requirement already satisfied: MarkupSafe>=2.1.1 in /usr/local/lib/python3.11/dist-packages (from werkzeug>=1.0.1->tensorboard<2.15,>=2.14->tensorflow) (2.1.3)\n",
      "Requirement already satisfied: pyasn1<0.6.0,>=0.4.6 in /usr/local/lib/python3.11/dist-packages (from pyasn1-modules>=0.2.1->google-auth<3,>=1.6.3->tensorboard<2.15,>=2.14->tensorflow) (0.5.0)\n",
      "Requirement already satisfied: oauthlib>=3.0.0 in /usr/lib/python3/dist-packages (from requests-oauthlib>=0.7.0->google-auth-oauthlib<1.1,>=0.5->tensorboard<2.15,>=2.14->tensorflow) (3.2.0)\n",
      "\u001b[33mWARNING: Running pip as the 'root' user can result in broken permissions and conflicting behaviour with the system package manager, possibly rendering your system unusable.It is recommended to use a virtual environment instead: https://pip.pypa.io/warnings/venv. Use the --root-user-action option if you know what you are doing and want to suppress this warning.\u001b[0m\u001b[33m\n",
      "\u001b[0m\n",
      "\u001b[1m[\u001b[0m\u001b[34;49mnotice\u001b[0m\u001b[1;39;49m]\u001b[0m\u001b[39;49m A new release of pip is available: \u001b[0m\u001b[31;49m24.2\u001b[0m\u001b[39;49m -> \u001b[0m\u001b[32;49m25.2\u001b[0m\n",
      "\u001b[1m[\u001b[0m\u001b[34;49mnotice\u001b[0m\u001b[1;39;49m]\u001b[0m\u001b[39;49m To update, run: \u001b[0m\u001b[32;49mpython -m pip install --upgrade pip\u001b[0m\n"
     ]
    }
   ],
   "source": [
    "# Install necessary libraries (if not already installed)\n",
    "!pip install tensorflow numpy matplotlib\n",
    "\n",
    "# Import required libraries\n",
    "import tensorflow as tf\n",
    "from tensorflow.keras import layers, models\n",
    "import matplotlib.pyplot as plt"
   ]
  },
  {
   "cell_type": "markdown",
   "id": "5bd26fa1",
   "metadata": {},
   "source": [
    "### Task 2: Load the Dataset"
   ]
  },
  {
   "cell_type": "code",
   "execution_count": 2,
   "id": "1d7ad4e1",
   "metadata": {},
   "outputs": [
    {
     "name": "stdout",
     "output_type": "stream",
     "text": [
      "Downloading data from https://storage.googleapis.com/tensorflow/tf-keras-datasets/mnist.npz\n",
      "11490434/11490434 [==============================] - 0s 0us/step\n",
      "Training data shape: (60000, 28, 28, 1), Testing data shape: (10000, 28, 28, 1)\n"
     ]
    }
   ],
   "source": [
    "# Load the MNIST dataset\n",
    "(x_train, y_train), (x_test, y_test) = tf.keras.datasets.mnist.load_data()\n",
    "\n",
    "# Normalize the images\n",
    "x_train = x_train / 255.0\n",
    "x_test = x_test / 255.0\n",
    "\n",
    "# Reshape the data to include a channel dimension\n",
    "# Write your code here!\n",
    "\n",
    "# Reshape the data to include a channel dimension\n",
    "x_train = x_train[..., tf.newaxis]\n",
    "x_test = x_test[..., tf.newaxis]\n",
    "\n",
    "print(f\"Training data shape: {x_train.shape}, Testing data shape: {x_test.shape}\")\n"
   ]
  },
  {
   "cell_type": "markdown",
   "id": "9278c6c1",
   "metadata": {},
   "source": [
    "**Explanation**: \n",
    "\n",
    "- The MNIST dataset is loaded using Keras utilities.\n",
    "- Images are normalized to have pixel values between 0 and 1.\n",
    "- Reshaping adds a channel dimension to make the data compatible with the ConvNet input requirements."
   ]
  },
  {
   "cell_type": "markdown",
   "id": "3a3c55f0",
   "metadata": {},
   "source": [
    "<details>\n",
    "    <summary>Click here to view/hide the solution.</summary>\n",
    "    \n",
    "```python\n",
    "\n",
    "# Reshape the data to include a channel dimension\n",
    "x_train = x_train[..., tf.newaxis]\n",
    "x_test = x_test[..., tf.newaxis]\n",
    "\n",
    "print(f\"Training data shape: {x_train.shape}, Testing data shape: {x_test.shape}\")\n",
    "```\n",
    "</details>"
   ]
  },
  {
   "cell_type": "markdown",
   "id": "0b416ce5",
   "metadata": {},
   "source": [
    "## Task 3: Visualize the Data"
   ]
  },
  {
   "cell_type": "code",
   "execution_count": 3,
   "id": "b354af67",
   "metadata": {},
   "outputs": [
    {
     "data": {
      "image/png": "[encoded data removed]",
      "text/plain": [
       "<Figure size 1000x500 with 10 Axes>"
      ]
     },
     "metadata": {},
     "output_type": "display_data"
    }
   ],
   "source": [
    "# Plot some sample images\n",
    "plt.figure(figsize=(10, 5))\n",
    "for i in range(10):\n",
    "    plt.subplot(2, 5, i+1)\n",
    "    plt.imshow(x_train[i].squeeze(), cmap='gray')\n",
    "    plt.title(f\"Label: {y_train[i]}\")\n",
    "    plt.axis('off')\n",
    "    \n",
    "    # Write your code here!\n",
    "    \n",
    "    \n",
    "plt.show()"
   ]
  },
  {
   "cell_type": "markdown",
   "id": "970c529d",
   "metadata": {},
   "source": [
    "**Explanation**:\n",
    "\n",
    "- Visualize 10 random images from the dataset to understand the input data."
   ]
  },
  {
   "cell_type": "markdown",
   "id": "d6e062d3",
   "metadata": {},
   "source": [
    "<details>\n",
    "    <summary>Click here to view/hide the solution.</summary>\n",
    "    \n",
    "```python\n",
    "    \n",
    "\n",
    "    plt.subplot(2, 5, i+1)\n",
    "    plt.imshow(x_train[i].squeeze(), cmap='gray')\n",
    "    plt.title(f\"Label: {y_train[i]}\")\n",
    "    plt.axis('off')\n",
    "    \n",
    "```\n",
    "</details>"
   ]
  },
  {
   "cell_type": "markdown",
   "id": "b5bee64b",
   "metadata": {},
   "source": [
    "### Task 4: Define the Convolutional Neural Network"
   ]
  },
  {
   "cell_type": "code",
   "execution_count": 4,
   "id": "4427f64c",
   "metadata": {},
   "outputs": [
    {
     "name": "stdout",
     "output_type": "stream",
     "text": [
      "Model: \"sequential\"\n",
      "_________________________________________________________________\n",
      " Layer (type)                Output Shape              Param #   \n",
      "=================================================================\n",
      " conv2d (Conv2D)             (None, 26, 26, 32)        320       \n",
      "                                                                 \n",
      " max_pooling2d (MaxPooling2  (None, 13, 13, 32)        0         \n",
      " D)                                                              \n",
      "                                                                 \n",
      " conv2d_1 (Conv2D)           (None, 11, 11, 64)        18496     \n",
      "                                                                 \n",
      " max_pooling2d_1 (MaxPoolin  (None, 5, 5, 64)          0         \n",
      " g2D)                                                            \n",
      "                                                                 \n",
      " flatten (Flatten)           (None, 1600)              0         \n",
      "                                                                 \n",
      " dense (Dense)               (None, 128)               204928    \n",
      "                                                                 \n",
      " dense_1 (Dense)             (None, 10)                1290      \n",
      "                                                                 \n",
      "=================================================================\n",
      "Total params: 225034 (879.04 KB)\n",
      "Trainable params: 225034 (879.04 KB)\n",
      "Non-trainable params: 0 (0.00 Byte)\n",
      "_________________________________________________________________\n"
     ]
    }
   ],
   "source": [
    "model = models.Sequential([\n",
    "    # First convolutional layer\n",
    "    layers.Conv2D(32, (3, 3), activation='relu', input_shape=(28, 28, 1)),\n",
    "    layers.MaxPooling2D((2, 2)),\n",
    "    \n",
    "    # Second convolutional layer\n",
    "\n",
    "    # Write your code here!\n",
    "    # Second convolutional layer\n",
    "    layers.Conv2D(64, (3, 3), activation='relu'),\n",
    "    layers.MaxPooling2D((2, 2)),\n",
    "    \n",
    "    # Flattening the output and adding fully connected layers\n",
    "    layers.Flatten(),\n",
    "    layers.Dense(128, activation='relu'),\n",
    "    layers.Dense(10, activation='softmax')\n",
    "    \n",
    "    \n",
    "    # Flattening the output and adding fully connected layers\n",
    "\n",
    "    # Write your code here!\n",
    "    \n",
    "])\n",
    "\n",
    "model.summary()"
   ]
  },
  {
   "cell_type": "markdown",
   "id": "a204ebf0",
   "metadata": {},
   "source": [
    "**Explanation**:\n",
    "\n",
    "- Two convolutional layers are defined, each followed by a max-pooling layer.\n",
    "- Fully connected layers are added at the end to produce class probabilities.\n",
    "- `model.summary()` provides an overview of the network architecture."
   ]
  },
  {
   "cell_type": "markdown",
   "id": "43ea1c75",
   "metadata": {},
   "source": [
    "<details>\n",
    "    <summary>Click here to view/hide the solution.</summary>\n",
    "    \n",
    "```python\n",
    "\n",
    "    # Second convolutional layer\n",
    "    layers.Conv2D(64, (3, 3), activation='relu'),\n",
    "    layers.MaxPooling2D((2, 2)),\n",
    "    \n",
    "    # Flattening the output and adding fully connected layers\n",
    "    layers.Flatten(),\n",
    "    layers.Dense(128, activation='relu'),\n",
    "    layers.Dense(10, activation='softmax')\n",
    "    \n",
    "```\n",
    "</details>"
   ]
  },
  {
   "cell_type": "markdown",
   "id": "b79496d4",
   "metadata": {},
   "source": [
    "### Task 5: Compile and Train the Model"
   ]
  },
  {
   "cell_type": "markdown",
   "id": "2db5e468",
   "metadata": {},
   "source": [
    "> **Note**:\n",
    "The code compiles and trains the model for 5 epochs, using the Adam optimizer and sparse categorical cross-entropy loss. Depending on the dataset size and available hardware, this process may take some time to complete, so please be patient."
   ]
  },
  {
   "cell_type": "code",
   "execution_count": 5,
   "id": "bc903e9d",
   "metadata": {},
   "outputs": [
    {
     "name": "stdout",
     "output_type": "stream",
     "text": [
      "Epoch 1/5\n",
      "1875/1875 [==============================] - 8s 2ms/step - loss: 0.1266 - accuracy: 0.9628 - val_loss: 0.0399 - val_accuracy: 0.9866\n",
      "Epoch 2/5\n",
      "1875/1875 [==============================] - 4s 2ms/step - loss: 0.0422 - accuracy: 0.9870 - val_loss: 0.0315 - val_accuracy: 0.9894\n",
      "Epoch 3/5\n",
      "1875/1875 [==============================] - 4s 2ms/step - loss: 0.0280 - accuracy: 0.9910 - val_loss: 0.0354 - val_accuracy: 0.9881\n",
      "Epoch 4/5\n",
      "1875/1875 [==============================] - 4s 2ms/step - loss: 0.0206 - accuracy: 0.9935 - val_loss: 0.0291 - val_accuracy: 0.9903\n",
      "Epoch 5/5\n",
      "1875/1875 [==============================] - 4s 2ms/step - loss: 0.0163 - accuracy: 0.9948 - val_loss: 0.0286 - val_accuracy: 0.9916\n"
     ]
    }
   ],
   "source": [
    "model.compile(optimizer='adam',\n",
    "              loss='sparse_categorical_crossentropy',\n",
    "              metrics=['accuracy'])\n",
    "\n",
    "# Train the model for 5 epochs with training data (x_train, y_train) \n",
    "# and validate on test data (x_test, y_test); may take time depending on dataset size.\n",
    "\n",
    "# Write your code here!\n",
    "history = model.fit(x_train, y_train, epochs=5, validation_data=(x_test, y_test))\n"
   ]
  },
  {
   "cell_type": "markdown",
   "id": "197c1ead",
   "metadata": {},
   "source": [
    "**Explanation**:\n",
    "\n",
    "- The model is compiled with the Adam optimizer and categorical cross-entropy loss.\n",
    "- Training is performed for 5 epochs, with validation on the test set."
   ]
  },
  {
   "cell_type": "markdown",
   "id": "477c3236",
   "metadata": {},
   "source": [
    "<details>\n",
    "    <summary>Click here to view/hide the solution.</summary>\n",
    "    \n",
    "```python\n",
    "    \n",
    "# Train the model for 5 epochs with training data (x_train, y_train) \n",
    "# and validate on test data (x_test, y_test); may take time depending on dataset size.\n",
    "\n",
    "history = model.fit(x_train, y_train, epochs=5, validation_data=(x_test, y_test))\n",
    "    \n",
    "```\n",
    "</details>"
   ]
  },
  {
   "cell_type": "markdown",
   "id": "e88eb79b",
   "metadata": {},
   "source": [
    "### Task 6: Evaluate the Model"
   ]
  },
  {
   "cell_type": "code",
   "execution_count": 6,
   "id": "35be1b46",
   "metadata": {},
   "outputs": [
    {
     "name": "stdout",
     "output_type": "stream",
     "text": [
      "313/313 - 0s - loss: 0.0286 - accuracy: 0.9916 - 398ms/epoch - 1ms/step\n",
      "\n",
      "Test accuracy: 0.991599977016449\n"
     ]
    }
   ],
   "source": [
    "# Evaluate the model's performance on the test data (x_test, y_test) and \n",
    "# print the test accuracy. The 'verbose=2' provides detailed output during evaluation.\n",
    "test_loss, test_acc = model.evaluate(x_test, y_test, verbose=2)\n",
    "print(f\"\\nTest accuracy: {test_acc}\")\n",
    "\n"
   ]
  },
  {
   "cell_type": "markdown",
   "id": "458dd7d4",
   "metadata": {},
   "source": [
    "<details>\n",
    "    <summary>Click here to view/hide the solution.</summary>\n",
    "    \n",
    "```python\n",
    "\n",
    "# Evaluate the model's performance on the test data (x_test, y_test) and \n",
    "# print the test accuracy. The 'verbose=2' provides detailed output during evaluation.\n",
    "test_loss, test_acc = model.evaluate(x_test, y_test, verbose=2)\n",
    "print(f\"\\nTest accuracy: {test_acc}\")\n",
    "    \n",
    "```\n",
    "</details>"
   ]
  },
  {
   "cell_type": "markdown",
   "id": "dcecb6ea",
   "metadata": {},
   "source": [
    "**Explanation**:\n",
    "\n",
    "The model is evaluated on the test set to measure its performance on unseen data."
   ]
  },
  {
   "cell_type": "markdown",
   "id": "59f47759",
   "metadata": {},
   "source": [
    "### Task 7: Visualize Training Results"
   ]
  },
  {
   "cell_type": "code",
   "execution_count": 7,
   "id": "9844e7a6",
   "metadata": {},
   "outputs": [
    {
     "data": {
      "image/png": "[encoded data removed]",
      "text/plain": [
       "<Figure size 1200x500 with 2 Axes>"
      ]
     },
     "metadata": {},
     "output_type": "display_data"
    }
   ],
   "source": [
    "# Plot accuracy and loss over epochs\n",
    "plt.figure(figsize=(12, 5))\n",
    "\n",
    "# Accuracy\n",
    "plt.subplot(1, 2, 1)\n",
    "plt.plot(history.history['accuracy'], label='Training Accuracy')\n",
    "plt.plot(history.history['val_accuracy'], label='Validation Accuracy')\n",
    "plt.title('Accuracy Over Epochs')\n",
    "plt.xlabel('Epoch')\n",
    "plt.ylabel('Accuracy')\n",
    "plt.legend()\n",
    "\n",
    "# Loss\n",
    "plt.subplot(1, 2, 2)\n",
    "plt.plot(history.history['loss'], label='Training Loss')\n",
    "plt.plot(history.history['val_loss'], label='Validation Loss')\n",
    "plt.title('Loss Over Epochs')\n",
    "plt.xlabel('Epoch')\n",
    "plt.ylabel('Loss')\n",
    "plt.legend()\n",
    "\n",
    "plt.show()\n",
    "\n",
    "\n"
   ]
  },
  {
   "cell_type": "markdown",
   "id": "e9f4f0cb",
   "metadata": {},
   "source": [
    "<details>\n",
    "    <summary>Click here to view/hide the solution.</summary>\n",
    "    \n",
    "```python\n",
    "\n",
    "# Accuracy\n",
    "plt.subplot(1, 2, 1)\n",
    "plt.plot(history.history['accuracy'], label='Training Accuracy')\n",
    "plt.plot(history.history['val_accuracy'], label='Validation Accuracy')\n",
    "plt.title('Accuracy Over Epochs')\n",
    "plt.xlabel('Epoch')\n",
    "plt.ylabel('Accuracy')\n",
    "plt.legend()\n",
    "\n",
    "# Loss\n",
    "plt.subplot(1, 2, 2)\n",
    "plt.plot(history.history['loss'], label='Training Loss')\n",
    "plt.plot(history.history['val_loss'], label='Validation Loss')\n",
    "plt.title('Loss Over Epochs')\n",
    "plt.xlabel('Epoch')\n",
    "plt.ylabel('Loss')\n",
    "plt.legend()\n",
    "\n",
    "plt.show()\n",
    "    \n",
    "```\n",
    "</details>"
   ]
  },
  {
   "cell_type": "markdown",
   "id": "9a59922c",
   "metadata": {},
   "source": [
    "**Explanation**:\n",
    "\n",
    "- Visualize the trends in training and validation accuracy and loss to understand the model’s learning progress."
   ]
  },
  {
   "cell_type": "markdown",
   "id": "73896c40",
   "metadata": {},
   "source": [
    "### Explaination of outcome:\n",
    "\n",
    "Achieving a **test accuracy more then 95%** on the MNIST dataset is excellent and entirely expected for a well-designed Convolutional Neural Network (ConvNet). Here's why:\n",
    "\n",
    "### **Why This Accuracy is Reasonable**\n",
    "1. **Dataset Characteristics**:  \n",
    "   The MNIST dataset is relatively simple, with well-structured and clean grayscale images of digits. Many models achieve over 99% accuracy on this dataset.\n",
    "\n",
    "2. **Model Design**:  \n",
    "   Your network includes:\n",
    "   - Two convolutional layers for feature extraction.\n",
    "   - Pooling layers to reduce spatial dimensions.\n",
    "   - Fully connected layers for final classification.  \n",
    "   This architecture is powerful enough to classify MNIST images with high accuracy.\n",
    "\n",
    "3. **Adam Optimizer**:  \n",
    "   The Adam optimizer adapts learning rates during training, which helps achieve convergence faster and more effectively.\n",
    "\n",
    "4. **Balanced Data**:  \n",
    "   The dataset is balanced across all 10 classes (digits 0–9), making it less prone to bias during training.\n",
    "\n",
    "---\n",
    "\n",
    "### **What Next?**\n",
    "If you're curious about improving or testing the robustness of your model:\n",
    "- **Data Augmentation**: Apply transformations like rotations, scaling, or shifting to make the model more robust to variations.\n",
    "- **Experiment with Hyperparameters**: Test different optimizers, learning rates, or architectures to explore their impact on performance.\n",
    "- **Use a Complex Dataset**: Test your model on more challenging datasets like CIFAR-10 or Fashion-MNIST for broader insights.\n",
    "\n",
    "Your results confirm that your implementation is correct, and the model is performing as expected for this dataset. Great work!"
   ]
  },
  {
   "cell_type": "markdown",
   "id": "cdf1f01d",
   "metadata": {},
   "source": [
    "### Key Takeaways\n",
    "- ConvNets are powerful for image classification tasks due to their ability to extract spatial features.\n",
    "- Adding multiple convolutional and pooling layers improves feature extraction but increases computational cost.\n",
    "- Training performance can be visualized using accuracy and loss curves."
   ]
  },
  {
   "cell_type": "markdown",
   "id": "90e5fec0",
   "metadata": {},
   "source": [
    "### Summary:\n",
    "\n",
    "In this lab, you implemented a basic ConvNet using TensorFlow. You trained the model on the MNIST dataset, achieving reasonable accuracy in classifying handwritten digits. You also learned to evaluate and visualize model performance, gaining insights into the network's learning dynamics."
   ]
  }
 ],
 "metadata": {
  "kernelspec": {
   "display_name": "Python 3 (ipykernel)",
   "language": "python",
   "name": "python3"
  },
  "language_info": {
   "codemirror_mode": {
    "name": "ipython",
    "version": 3
   },
   "file_extension": ".py",
   "mimetype": "text/x-python",
   "name": "python",
   "nbconvert_exporter": "python",
   "pygments_lexer": "ipython3",
   "version": "3.11.0rc1"
  }
 },
 "nbformat": 4,
 "nbformat_minor": 5
}
